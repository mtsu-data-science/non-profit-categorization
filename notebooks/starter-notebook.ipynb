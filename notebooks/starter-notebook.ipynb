{
 "cells": [
  {
   "cell_type": "code",
   "execution_count": 1,
   "metadata": {},
   "outputs": [],
   "source": [
    "import os\n",
    "\n",
    "# all notebooks need to run from the root directory\n",
    "# this will check to see if the current working directory is notebooks, if so, it will change\n",
    "# to root directory.  if already in the root directory, will not modify\n",
    "if \"notebooks\" in os.getcwd():\n",
    "    os.chdir(\"..\")\n",
    "\n",
    "from src.utility.get_data import get_non_profit_text_df, get_non_profit_df"
   ]
  },
  {
   "cell_type": "code",
   "execution_count": 2,
   "metadata": {},
   "outputs": [
    {
     "name": "stdout",
     "output_type": "stream",
     "text": [
      "Downloading nonprofit.txt...\n",
      "Downloading nonprofit_text.txt...\n"
     ]
    }
   ],
   "source": [
    "df_text = get_non_profit_text_df()\n",
    "df_text.head()"
   ]
  },
  {
   "cell_type": "code",
   "execution_count": null,
   "metadata": {},
   "outputs": [],
   "source": [
    "df_np = get_non_profit_df()\n",
    "df_np.head()"
   ]
  }
 ],
 "metadata": {
  "interpreter": {
   "hash": "7319f563673677e422a10613494ec1f4af38d3dabd788e29e91dd57d2c43df3a"
  },
  "kernelspec": {
   "display_name": "Python 3.10.2 64-bit",
   "language": "python",
   "name": "python3"
  },
  "language_info": {
   "codemirror_mode": {
    "name": "ipython",
    "version": 3
   },
   "file_extension": ".py",
   "mimetype": "text/x-python",
   "name": "python",
   "nbconvert_exporter": "python",
   "pygments_lexer": "ipython3",
   "version": "3.10.2"
  },
  "orig_nbformat": 4
 },
 "nbformat": 4,
 "nbformat_minor": 2
}
